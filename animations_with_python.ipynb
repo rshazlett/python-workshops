{
 "cells": [
  {
   "cell_type": "markdown",
   "id": "147335bd-cfc9-4555-98b0-cec72bd39f39",
   "metadata": {},
   "source": [
    "# Creating Animations using `ffmpeg`\n",
    "\n",
    "### Python Workshops 2024, 2025 - University of Toledo\n",
    "\n",
    "#### Author:  Ryan Hazlett\n",
    "\n",
    "<b>Email:  </b> ryan.hazlett@rockets.utoledo.edu \n",
    "\n",
    "***\n",
    "\n",
    "## Overview\n",
    "\n",
    "- A quick example of how to create an animation in Python from saved figures."
   ]
  },
  {
   "cell_type": "markdown",
   "id": "7a933f2a-f698-4419-a913-a41b19181d25",
   "metadata": {},
   "source": [
    "#### Import Libraries"
   ]
  },
  {
   "cell_type": "code",
   "execution_count": null,
   "id": "194c10be-6f27-4e10-8632-44a2add76fed",
   "metadata": {},
   "outputs": [],
   "source": [
    "import numpy as np\n",
    "import matplotlib.pyplot as plt\n",
    "import os\n",
    "import ffmpeg\n",
    "from IPython.display import Video"
   ]
  },
  {
   "cell_type": "markdown",
   "id": "41179184-2ecb-4075-a696-7b283bac20b2",
   "metadata": {},
   "source": [
    "#### Create a Directory to Store Figures"
   ]
  },
  {
   "cell_type": "code",
   "execution_count": null,
   "id": "ac4face5-63e0-4574-a722-542e9a7b6c15",
   "metadata": {},
   "outputs": [],
   "source": [
    "# Directory \n",
    "directory = \"plots\"\n",
    "   \n",
    "# Parent Directory path is current working directory\n",
    "parent_dir = os.getcwd()\n",
    "   \n",
    "# Path \n",
    "path = os.path.join(parent_dir, directory) \n",
    "   \n",
    "# Create the directory\n",
    "os.makedirs(path, exist_ok=True)\n",
    "print(\"Directory '%s' created\" %directory) "
   ]
  },
  {
   "cell_type": "markdown",
   "id": "4c769e2d-783c-4ae7-87ee-69d4ac13eb2f",
   "metadata": {},
   "source": [
    "#### Make Plots to Combine into an Animation"
   ]
  },
  {
   "cell_type": "code",
   "execution_count": null,
   "id": "fa609e79-c6f4-4554-ba89-d67de5cf479b",
   "metadata": {},
   "outputs": [],
   "source": [
    "x = np.linspace(0,2*np.pi,1000)\n",
    "freq = np.arange(1,10)\n",
    "\n",
    "for i in range(len(freq)):\n",
    "    sine_curve = np.sin(freq[i]*x)\n",
    "    plt.title(r\"Sine Curve,  $\\omega$ = {:.0f}\".format(freq[i]),fontsize=20)\n",
    "    plt.xlabel(\"Wavelength\",fontsize=16)\n",
    "    plt.ylabel(\"Amplitude\",fontsize=16)\n",
    "    plt.plot(x,sine_curve,color=\"black\")\n",
    "    plt.savefig(path+\"/sin_freq_{:.0f}.png\".format(freq[i]),facecolor='white',transparent=False,dpi=300)\n",
    "    plt.show()"
   ]
  },
  {
   "cell_type": "markdown",
   "id": "28c56933-52b5-41d9-955d-1f2c006a0108",
   "metadata": {},
   "source": [
    "### Generate Animation with `ffmpeg`\n",
    "\n",
    "- Enconder `libx264` and Pixel Format `yuv420p` important to be compatible with MP4 video format. "
   ]
  },
  {
   "cell_type": "code",
   "execution_count": null,
   "id": "025b7055-4df3-4bfd-b804-4c8e4c72c5b5",
   "metadata": {},
   "outputs": [],
   "source": [
    "# Output Animation Name\n",
    "output_movie = 'sin_func_movie'\n",
    "\n",
    "# Framerate (How fast your animation is)\n",
    "fr = 2\n",
    "\n",
    "# ffmpeg command\n",
    "(\n",
    "\tffmpeg.input(path+'/*.png', pattern_type='glob',framerate=fr)\n",
    "\t.output(output_movie+'.mp4',vcodec='libx264',pix_fmt='yuv420p')\n",
    "\t.run(overwrite_output=True)\n",
    ")"
   ]
  },
  {
   "cell_type": "markdown",
   "id": "b656fc4f-8724-4643-8f15-f80b744fbdad",
   "metadata": {},
   "source": [
    "### View Animation"
   ]
  },
  {
   "cell_type": "code",
   "execution_count": null,
   "id": "92fa1480-c57d-4da9-a2fd-2d89b920b98c",
   "metadata": {},
   "outputs": [],
   "source": [
    "Video(\"sin_func_movie.mp4\",width=1000,height=1000)"
   ]
  }
 ],
 "metadata": {
  "kernelspec": {
   "display_name": "Python 3 (ipykernel)",
   "language": "python",
   "name": "python3"
  },
  "language_info": {
   "codemirror_mode": {
    "name": "ipython",
    "version": 3
   },
   "file_extension": ".py",
   "mimetype": "text/x-python",
   "name": "python",
   "nbconvert_exporter": "python",
   "pygments_lexer": "ipython3",
   "version": "3.9.19"
  }
 },
 "nbformat": 4,
 "nbformat_minor": 5
}
