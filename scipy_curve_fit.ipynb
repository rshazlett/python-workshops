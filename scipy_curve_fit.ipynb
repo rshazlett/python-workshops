{
 "cells": [
  {
   "cell_type": "markdown",
   "id": "c30c71d3",
   "metadata": {},
   "source": [
    "# Curve Fitting using `scipy.optimize.curve_fit`\n",
    "\n",
    "### Python Workshops 2023, 2024, & 2025 - University of Toledo\n",
    "\n",
    "#### Author:  Ryan Hazlett\n",
    "\n",
    "<b>Email:  </b> ryan.hazlett@rockets.utoledo.edu \n",
    "\n",
    "***\n",
    "\n",
    "## Overview\n",
    "\n",
    "- A quick example of how to use `curve_fit` with your research.\n",
    "- Easy way to format plots at the beginning of your code.\n",
    "- Demo for using interactive sliders in Jupyter notebooks."
   ]
  },
  {
   "cell_type": "markdown",
   "id": "7b768f48",
   "metadata": {},
   "source": [
    "#### Import Libraries"
   ]
  },
  {
   "cell_type": "code",
   "execution_count": null,
   "id": "bbb501ed",
   "metadata": {},
   "outputs": [],
   "source": [
    "# Import numpy and matplotlib\n",
    "import numpy as np\n",
    "import matplotlib.pyplot as plt\n",
    "\n",
    "# curve_fit function used for fitting data\n",
    "from scipy.optimize import curve_fit"
   ]
  },
  {
   "cell_type": "markdown",
   "id": "9f1ad6d8",
   "metadata": {},
   "source": [
    "#### Configure Plot Parameters\n",
    "\n",
    "Can run this beforehand to format plots."
   ]
  },
  {
   "cell_type": "code",
   "execution_count": null,
   "id": "0b061823",
   "metadata": {},
   "outputs": [],
   "source": [
    "# Default size parameters\n",
    "figsize = (8,8)\n",
    "fontsize = 14\n",
    "TITLE_SIZE = 30\n",
    "LABEL_SIZE = 24\n",
    "SMALL_TICK_SIZE = 6\n",
    "BIG_TICK_SIZE = 12\n",
    "\n",
    "# Configure plot parameters\n",
    "plt.rcParams.update({'font.size': fontsize, \n",
    "                     'figure.figsize': figsize, \n",
    "                     'figure.titlesize': TITLE_SIZE})\n",
    "\n",
    "\n",
    "# Default tick label size\n",
    "plt.rcParams['axes.linewidth'] = 2\n",
    "\n",
    "plt.rcParams['xtick.labelsize'] = LABEL_SIZE\n",
    "plt.rcParams['ytick.labelsize'] = LABEL_SIZE\n",
    "plt.rcParams['xtick.major.size'] = BIG_TICK_SIZE\n",
    "plt.rcParams['ytick.major.size'] = BIG_TICK_SIZE\n",
    "plt.rcParams['xtick.major.width'] = 2\n",
    "plt.rcParams['ytick.major.width'] = 2\n",
    "plt.rcParams['xtick.minor.size'] = SMALL_TICK_SIZE\n",
    "plt.rcParams['ytick.minor.size'] = SMALL_TICK_SIZE\n",
    "\n",
    "plt.rcParams['xtick.direction'] = 'in'\n",
    "plt.rcParams['ytick.direction'] = 'in'\n",
    "plt.rcParams['xtick.top'] = True\n",
    "plt.rcParams['ytick.right'] = True"
   ]
  },
  {
   "cell_type": "markdown",
   "id": "981b0955",
   "metadata": {},
   "source": [
    "## Using `scipy.curve_fit` to Analyze your Data"
   ]
  },
  {
   "cell_type": "markdown",
   "id": "86b197a8",
   "metadata": {},
   "source": [
    "#### Gaussian Function used in Fitting\n",
    "\n",
    "$$ f(x) = A \\ \\mathrm{exp} \\left( - \\frac{(x - \\mu)^{2}}{2 \\sigma^{2}} \\right) $$"
   ]
  },
  {
   "cell_type": "code",
   "execution_count": null,
   "id": "87604566",
   "metadata": {},
   "outputs": [],
   "source": [
    "def gaussian_func(x,ampl,center,std):\n",
    "    return ampl * np.exp(-0.5 * (x - center)**2 / std**2)"
   ]
  },
  {
   "cell_type": "markdown",
   "id": "7b1156fb",
   "metadata": {},
   "source": [
    "### Generate Spectrum Composed of Gaussian Components\n",
    "\n",
    "Don't print anything out from the cells below to keep things a mystery!"
   ]
  },
  {
   "cell_type": "code",
   "execution_count": null,
   "id": "6d55cd4b-c0d5-42cd-a55e-393a27c22769",
   "metadata": {},
   "outputs": [],
   "source": [
    "# Random Seed (Change this to get a different spectrum to fit!)\n",
    "seed_num = 4"
   ]
  },
  {
   "cell_type": "code",
   "execution_count": null,
   "id": "e117edce",
   "metadata": {},
   "outputs": [],
   "source": [
    "# Wavelength Range\n",
    "lower_wl = 10.\n",
    "upper_wl = 100.\n",
    "wave = np.linspace(lower_wl, upper_wl, 500)\n",
    "\n",
    "# Randomly create between 1-? gaussians\n",
    "max_num_gauss = 5\n",
    "np.random.seed(seed_num) # Same seed so everyone gets the same thing\n",
    "num_gauss = np.random.randint(1, max_num_gauss)\n",
    "\n",
    "# Make spectrum out of unknown number of gaussians\n",
    "intensity = 0.\n",
    "all_ampl = np.zeros(num_gauss)\n",
    "all_center = np.zeros(num_gauss)\n",
    "all_std = np.zeros(num_gauss)\n",
    "for i in range(num_gauss):\n",
    "    what_kind = np.random.randint(0, 10)\n",
    "    if what_kind >= 7:\n",
    "        rand_ampl = np.random.uniform(2,7)\n",
    "    else:\n",
    "        rand_ampl = np.random.uniform(-5,-2)\n",
    "    rand_center = np.random.uniform(lower_wl*1.2,upper_wl*0.8)\n",
    "    rand_std = np.random.uniform(0.01*(upper_wl-lower_wl),0.6*(upper_wl-lower_wl))\n",
    "    intensity += gaussian_func(wave,rand_ampl,rand_center,rand_std)\n",
    "    \n",
    "    all_ampl[i] = rand_ampl\n",
    "    all_center[i] = rand_center\n",
    "    all_std[i] = rand_std\n",
    "\n",
    "# Add some random noise to data\n",
    "intensity += np.random.normal(0., 0.2, wave.shape)\n",
    "\n",
    "#print(num_gauss)\n",
    "#print(all_ampl)\n",
    "#print(all_center)\n",
    "#print(all_std)"
   ]
  },
  {
   "cell_type": "code",
   "execution_count": null,
   "id": "7e39b9b9",
   "metadata": {},
   "outputs": [],
   "source": [
    "# Plot the original generated spectrum.\n",
    "plt.clf()\n",
    "plt.xlabel(r'Wavelength',fontsize=28)\n",
    "plt.ylabel(r'Intensity',fontsize=28)\n",
    "plt.plot(wave, intensity, color='black',label=\"Original Spectrum\")\n",
    "plt.legend(fontsize=14)\n",
    "plt.show()"
   ]
  },
  {
   "cell_type": "markdown",
   "id": "29d5f083",
   "metadata": {},
   "source": [
    "#### Now, let's try to figure out the parameters of the gaussians used to make this spectrum!"
   ]
  },
  {
   "cell_type": "markdown",
   "id": "9bbb4f89",
   "metadata": {},
   "source": [
    "### Find the Best Fit to your Data using `curve_fit`\n",
    "\n",
    "Summarizing from (https://www.askpython.com/python/examples/curve-fitting-in-python).\n",
    "\n",
    "The idea of curve fitting is to look at a dataset and extract optimized values for parameters for a fitting function.\n",
    "\n",
    "Assume you have dataset $y$ = {$y_{1}$, $y_{2}$, $y_{3}$ …} along with a function $f$ that depends on wavelength $\\lambda$ = {$\\lambda_{1}$, $\\lambda_{2}$, $\\lambda_{3}$ …} and some unknown parameters $z$ = {$z_{1}$, $z_{2}$, $z_{3}$ …}. We need to find an optimal value for this unknown parameter $z$ such that the function $y = f(\\lambda, z)$ best resembles the function and given datasets. This process is known as curve fitting.\n",
    "\n",
    "Can apply two different methods to accomplish this:\n",
    "- Least Square Method (Dataset does not include errors)\n",
    "- Maximum Likelihood Estimation (Dataset includes errors)\n",
    "\n",
    "Minimize the following function to find the best fit $z$ parameters (non-linear least squares):\n",
    "\n",
    "$$ \\sum_{i} \\frac{\\left[ f(\\lambda_{i},z) - y_{i} \\right]^{2}}{\\sigma_{i}^{2}} $$"
   ]
  },
  {
   "cell_type": "markdown",
   "id": "8d17db9f",
   "metadata": {},
   "source": [
    "#### `scipy.optimize.curve_fit` \n",
    "\n",
    "Documentation:  https://docs.scipy.org/doc/scipy/reference/generated/scipy.optimize.curve_fit.html\n",
    "\n",
    "```Python\n",
    "curve_fit(f, xdata, ydata, p0=None, sigma=None, bounds=(-np.inf, np.inf), method='trf', nan_policy=None, maxfev=10000)\n",
    "```\n",
    "\n",
    "Input:\n",
    "- <b>f:</b> The model function, <i>we will be using a modificied version of the gaussian function we defined earlier.</i>\n",
    "- <b>xdata:</b> The independent variable, <i>wavelength in our case.</i>\n",
    "- <b>ydata:</b> The dependent data, <i>intensity of our generated spectrum.</i>\n",
    "- <b>p0:</b> Initial guess for the parameters, <i>we will need to find these!</i>\n",
    "- <b>sigma:</b> Determines the uncertainty in ydata, <i>None in this example, with real data you will include.</i>\n",
    "- <b>bounds:</b> Lower and upper bounds on parameters, <i>we will want to change these!</i>\n",
    "- <b>method:</b> Method to use for optimization, <i>will typically default to best method, normally don't include.</i>\n",
    "- <b>nan_policy:</b> Defines how to handle when input contains nan, <i>can change to ‘omit’ to perform the calculations ignoring nan values.</i>\n",
    "- <b>maxfev:</b> Increases iterations to find best fit, <i>normally not included, can change if curve fit is timing out.</i>\n",
    "\n",
    "Returns:\n",
    "- <b>popt:</b> Optimal values for the parameters so the non-linear least squares function is minimized\n",
    "- <b>pcov:</b> The estimated approximate covariance of popt. The diagonals provide the variance of the parameter estimate."
   ]
  },
  {
   "cell_type": "markdown",
   "id": "8b208f06",
   "metadata": {},
   "source": [
    "### Setting things up\n",
    "\n",
    "If we were fitting a single gaussian, could use the function we defined earlier:\n",
    "\n",
    "```Python\n",
    "initial_params = # ?,?,?\n",
    "my_bounds = # ([min1,min2,min3],[max1,max2,max3])\n",
    "\n",
    "popt, pcov = curve_fit(f=gaussian_func, xdata=wave, ydata=intensity, p0=initial_params, bounds=my_bounds)\n",
    "```"
   ]
  },
  {
   "cell_type": "markdown",
   "id": "d898cd48",
   "metadata": {},
   "source": [
    "### What are Good Initial Parameter Choices and Bounds?\n",
    "\n",
    "<div class=\"alert alert-block alert-info\">\n",
    "The function below is used to create an interactive plot with sliders you can use to test initial conditions, you can modify this to use in your own code if it seems helpful.\n",
    "</div>"
   ]
  },
  {
   "cell_type": "code",
   "execution_count": null,
   "id": "388ac41e",
   "metadata": {},
   "outputs": [],
   "source": [
    "def interact_gauss():\n",
    "    from ipywidgets import interact, FloatSlider\n",
    "    from IPython.display import display\n",
    "    \n",
    "    ## Set up the plot data\n",
    "    x     = wave # Wavelength data\n",
    "    fig   = plt.figure()\n",
    "    plt.plot(wave, intensity, color='black',label=r\"Original Spectrum\") # This includes the original spectrum in the figure\n",
    "    line, = plt.plot([], [], color='orangered', linewidth=4, label=r\"Test Gaussian\") # Initialize curve to empty data.\n",
    "    \n",
    "    ## Scale Bar Parameters, Minimum, Maximum, Step Size, and Starting Position\n",
    "    ampl_min, ampl_max, ampl_step, ampl_init = -10.0, 15.0, 0.1, 0.0\n",
    "    cent_min, cent_max, cent_step, cent_init = min(wave), max(wave), 0.1, np.mean(wave)\n",
    "    std_min, std_max, std_step, std_init = 0.1, 100, 0.1, 1.0\n",
    "\n",
    "    ## Set up the figure axes, etc.\n",
    "    plt.xlim(0.9*min(wave), 1.05*max(wave)) # Use data to determine bounds\n",
    "    plt.ylim(0.9*min(intensity), 1.1*max(intensity)) # Use data to determine bounds\n",
    "    plt.xlabel(r'Wavelength',fontsize=28)\n",
    "    plt.ylabel(r'Intensity',fontsize=28)\n",
    "    plt.legend(loc=\"upper left\",fontsize=14)\n",
    "    plt.close()      # Don't show the figure yet.\n",
    "\n",
    "    ## Callback function\n",
    "    def plot_gauss(Amplitude,Center,Width):\n",
    "        y = gaussian_func(x,Amplitude,Center,Width) # Test Gaussian Data\n",
    "        line.set_data(x, y) # Add Wavelength and Gaussian Data\n",
    "        display(fig)\n",
    "\n",
    "    ## Generate the user interface.\n",
    "    interact(plot_gauss, Amplitude=FloatSlider(min=ampl_min, max=ampl_max, step=ampl_step, value=ampl_init), Center=FloatSlider(min=cent_min, max=cent_max, step=cent_step, value=cent_init), Width=FloatSlider(min=std_min, max=std_max, step=std_step, value=std_init))"
   ]
  },
  {
   "cell_type": "markdown",
   "id": "689fcfb1",
   "metadata": {},
   "source": [
    "#### Find Reasonable Initial Gaussian Parameters"
   ]
  },
  {
   "cell_type": "code",
   "execution_count": null,
   "id": "96fea2de",
   "metadata": {},
   "outputs": [],
   "source": [
    "interact_gauss()"
   ]
  },
  {
   "cell_type": "markdown",
   "id": "29a773ae",
   "metadata": {},
   "source": [
    "#### Use this to determine your initial parameter and bounds for each gaussian you think is present!"
   ]
  },
  {
   "cell_type": "markdown",
   "id": "38016b7a",
   "metadata": {},
   "source": [
    "### Define a new model with the number of gaussians you wish to include\n",
    "\n",
    "```Python\n",
    "def mult_gauss_model(x,a1,c1,std1,...):\n",
    "    return a1 * np.exp(-0.5 * (x - c1)**2 / std1**2) + ...\n",
    "```\n",
    "\n",
    "Then run `curve_fit`\n",
    "\n",
    "```Python\n",
    "initial_params = # ?,?,?, ...\n",
    "my_bounds = # ([min1,...],[max1,...])\n",
    "\n",
    "popt, pcov = curve_fit(f=mult_gauss_model, xdata=wave, ydata=intensity, p0=initial_params, bounds=my_bounds)\n",
    "```"
   ]
  },
  {
   "cell_type": "code",
   "execution_count": null,
   "id": "bfd84fb6",
   "metadata": {},
   "outputs": [],
   "source": []
  },
  {
   "cell_type": "markdown",
   "id": "fe81903c",
   "metadata": {},
   "source": [
    "### Solution"
   ]
  },
  {
   "cell_type": "code",
   "execution_count": null,
   "id": "03233dff",
   "metadata": {},
   "outputs": [],
   "source": [
    "def mult_gauss_model(x,a1,c1,std1,a2,c2,std2,a3,c3,std3):\n",
    "    return a1 * np.exp(-0.5 * (x - c1)**2 / std1**2) + a2 * np.exp(-0.5 * (x - c2)**2 / std2**2) + a3 * np.exp(-0.5 * (x - c3)**2 / std3**2)"
   ]
  },
  {
   "cell_type": "code",
   "execution_count": null,
   "id": "5bbea49c",
   "metadata": {},
   "outputs": [],
   "source": [
    "initial_params = 9.1, 55., 1.6, 5.9, 78.2, 2.4, 3.0, 69.1, 30.1\n",
    "my_bounds = ([-np.inf,0.,0.01,-np.inf,0.,0.01,-np.inf,0.,0.01], [np.inf,200.,100.,np.inf,200.,100.,np.inf,200.,100.])\n",
    "\n",
    "popt, pcov = curve_fit(f=mult_gauss_model, xdata=wave, ydata=intensity, p0=initial_params, bounds=my_bounds)"
   ]
  },
  {
   "cell_type": "markdown",
   "id": "36c6012e",
   "metadata": {},
   "source": [
    "### Gather Fit Values and Get Best Fit Model"
   ]
  },
  {
   "cell_type": "code",
   "execution_count": null,
   "id": "72512b3f",
   "metadata": {},
   "outputs": [],
   "source": [
    "fit_ampl = popt[0::3] # Starting on first array index, take every third value\n",
    "fit_center = popt[1::3] # Starting on second array index, take every third value\n",
    "fit_std = popt[2::3] # Starting on third array index, take every third value\n",
    "\n",
    "# Best Fit Model\n",
    "predict_num_gauss = 3\n",
    "best_model = 0.\n",
    "for i in range(predict_num_gauss):\n",
    "    best_model += gaussian_func(wave,fit_ampl[i],fit_center[i],fit_std[i])"
   ]
  },
  {
   "cell_type": "markdown",
   "id": "c182903a",
   "metadata": {},
   "source": [
    "#### Plot Best Fit Model"
   ]
  },
  {
   "cell_type": "code",
   "execution_count": null,
   "id": "3a0294b4",
   "metadata": {},
   "outputs": [],
   "source": [
    "plt.clf()\n",
    "plt.xlabel(r'Wavelength',fontsize=28)\n",
    "plt.ylabel(r'Intensity',fontsize=28)\n",
    "plt.plot(wave, intensity, color='black', label=\"Original Spectrum\")\n",
    "plt.plot(wave, best_model, color='orangered', label=\"Best Fit\")\n",
    "plt.legend(fontsize=14)\n",
    "plt.show()"
   ]
  },
  {
   "cell_type": "markdown",
   "id": "d1dc5963",
   "metadata": {},
   "source": [
    "#### Plot Individual Gaussians"
   ]
  },
  {
   "cell_type": "code",
   "execution_count": null,
   "id": "a7582416",
   "metadata": {},
   "outputs": [],
   "source": [
    "plt.clf()\n",
    "plt.xlabel(r'Wavelength',fontsize=28)\n",
    "plt.ylabel(r'Intensity',fontsize=28)\n",
    "plt.plot(wave, intensity, color='black', label=\"Original Spectrum\")\n",
    "# Individual Components\n",
    "for i in range(predict_num_gauss):\n",
    "    component = gaussian_func(wave,fit_ampl[i],fit_center[i],fit_std[i])\n",
    "    plt.plot(wave, component, label=r\"$A$ = %.2f\" \"\\n\" r\"$\\mu$ = %.2f\" \"\\n\" r\"$\\sigma$ = %.2f\"%(fit_ampl[i],fit_center[i],fit_std[i]))\n",
    "plt.legend(fontsize=14)\n",
    "plt.show()"
   ]
  },
  {
   "cell_type": "markdown",
   "id": "75a0c271",
   "metadata": {},
   "source": [
    "### Compare to Exact Generated Values"
   ]
  },
  {
   "cell_type": "code",
   "execution_count": null,
   "id": "3254b14f",
   "metadata": {},
   "outputs": [],
   "source": [
    "print(\"Number of Gaussians:  {:d}\".format(num_gauss))\n",
    "print()\n",
    "for i in range(num_gauss):\n",
    "    print(\"Gaussian {:d}: \".format(i+1))\n",
    "    print(\"Amplitude:  {:.4f}\".format(all_ampl[i]))\n",
    "    print(\"Center:  {:.4f}\".format(all_center[i]))\n",
    "    print(\"Standard Deviation:  {:.4f}\".format(all_std[i]))\n",
    "    print()"
   ]
  },
  {
   "cell_type": "markdown",
   "id": "5c382d24",
   "metadata": {},
   "source": [
    "## You can use any model function you want with `curve_fit`"
   ]
  },
  {
   "cell_type": "markdown",
   "id": "b0cafd7b",
   "metadata": {},
   "source": [
    "### Linear Function\n",
    "\n",
    "$$ g(x) = m x + b $$\n",
    "\n",
    "```Python\n",
    "def linear_model(x,m,b):\n",
    "    return m * x + b\n",
    "\n",
    "initial_params = # ?,?\n",
    "my_bounds = # ([min1,min2],[max1,max2])\n",
    "\n",
    "popt, pcov = curve_fit(f=linear_model, xdata=x, ydata=y, p0=initial_params, bounds=my_bounds)\n",
    "```"
   ]
  },
  {
   "cell_type": "markdown",
   "id": "bea84319",
   "metadata": {},
   "source": [
    "### Sum of Power Laws\n",
    "\n",
    "$$ g(x) = a x^{b} + c x^{d} + ... + w $$\n",
    "\n",
    "```Python\n",
    "def mult_powerlaw_model(x,a,b,c,d,...,w):\n",
    "    return a * x**b + c * x**d + ... + w\n",
    "\n",
    "initial_params = # ?,?,?, ...\n",
    "my_bounds = # ([min1,...],[max1,...])\n",
    "\n",
    "popt, pcov = curve_fit(f=mult_powerlaw_model, xdata=x, ydata=y, p0=initial_params, bounds=my_bounds)\n",
    "```"
   ]
  },
  {
   "cell_type": "markdown",
   "id": "07817265",
   "metadata": {},
   "source": [
    "### Broken Power Laws\n",
    "\n",
    "- Want one power law to apply to $x$ > 2, the second to apply to 5 < $x$ < 9.\n",
    "\n",
    "$$ g(x) = a x^{b} + c x^{d} + ... + w $$\n",
    "\n",
    "```Python\n",
    "def broken_powerlaw_model(x,a,b,c,d,...,w):\n",
    "    x1 = x[x > 2]\n",
    "    x2 = x[np.logical_and(x > 5, x < 9)]\n",
    "    return a * x1**b + c * x2**d + ... + w\n",
    "\n",
    "initial_params = # ?,?,?, ...\n",
    "my_bounds = # ([min1,...],[max1,...])\n",
    "\n",
    "popt, pcov = curve_fit(f=broken_powerlaw_model, xdata=x, ydata=y, p0=initial_params, bounds=my_bounds)\n",
    "```"
   ]
  },
  {
   "cell_type": "markdown",
   "id": "52049757",
   "metadata": {},
   "source": [
    "### Power Laws Including Multiple Data Sets\n",
    "\n",
    "- Have data that depends on multiple variables x, y, ...\n",
    "\n",
    "$$ g(x,y,...) = a x^{b} + c y^{d} + ... + w $$\n",
    "\n",
    "```Python\n",
    "\n",
    "in_data = dataSet1, dataSet2\n",
    "\n",
    "def mult_powerlaw_model(in_data,a,b,c,d,...,w):\n",
    "    x, y = in_data\n",
    "    return a * x**b + c * y**d + ... + w\n",
    "\n",
    "initial_params = # ?,?,?, ...\n",
    "my_bounds = # ([min1,...],[max1,...])\n",
    "\n",
    "popt, pcov = curve_fit(f=mult_powerlaw_model, xdata=in_data, ydata=z, p0=initial_params, bounds=my_bounds)\n",
    "```"
   ]
  },
  {
   "cell_type": "markdown",
   "id": "cd86e74b",
   "metadata": {},
   "source": [
    "### Log-Spaced Power Laws Including Multiple Data Sets\n",
    "\n",
    "- Have data that depends on multiple variables x, y, ...\n",
    "\n",
    "$$ log_{\\mathrm{10}} g(x,y,...) = a \\ log_{\\mathrm{10}} x + b \\ log_{\\mathrm{10}} y + ... + w $$\n",
    "\n",
    "```Python\n",
    "\n",
    "in_data = dataSet1, dataSet2\n",
    "\n",
    "def mult_powerlaw_model(in_data,a,b,c,d,...,w):\n",
    "    x, y = in_data\n",
    "    return a*np.log10(x) + b*np.log10(y) + ... + w\n",
    "\n",
    "initial_params = # ?,?,?, ...\n",
    "my_bounds = # ([min1,...],[max1,...])\n",
    "\n",
    "popt, pcov = curve_fit(f=mult_powerlaw_model, xdata=in_data, ydata=np.log10(z), p0=initial_params, bounds=my_bounds)\n",
    "```"
   ]
  },
  {
   "cell_type": "markdown",
   "id": "2dc14d9d",
   "metadata": {},
   "source": [
    "### Sum of Exponentials\n",
    "\n",
    "$$ g(x) = a e^{bx} + c e^{dx} + ... + w $$\n",
    "\n",
    "```Python\n",
    "def mult_exp_model(x,a,b,c,d,...,w):\n",
    "    return a * np.exp(b * x) + c * np.exp(d * x) + ... + w\n",
    "\n",
    "initial_params = # ?,?,?, ...\n",
    "my_bounds = # ([min1,...],[max1,...])\n",
    "\n",
    "popt, pcov = curve_fit(f=mult_exp_model, xdata=x, ydata=y, p0=initial_params, bounds=my_bounds)\n",
    "```"
   ]
  },
  {
   "cell_type": "markdown",
   "id": "7c3e8ccc",
   "metadata": {},
   "source": [
    "### Blackbody Continuum with Gaussian Emission/Absorption Lines\n",
    "\n",
    "$$ g(x) = \\frac{2 h c^{2}}{\\lambda^{5}} \\frac{1}{e^{\\frac{h c}{(\\lambda k T)}} - 1} + A \\ \\mathrm{exp} \\left( - \\frac{(\\lambda - \\mu)^{2}}{2 \\sigma^{2}} \\right) + ...$$\n",
    "\n",
    "```Python\n",
    "def blackbody_and_lines_model(lam,T,a1,c1,std1,...):\n",
    "    # Blackbody as a function of wavelength (um) and temperature (K).\n",
    "    #  returns units of erg/s/cm^2/cm/Steradian\n",
    "    \n",
    "    from scipy.constants import h,k,c\n",
    "    lam = 1e-6 * lam # convert to meters\n",
    "    return 2*h*c**2 / (lam**5 * (np.exp(h*c / (lam*k*T)) - 1)) + a1 * np.exp(-0.5*(x - c1)**2/std1**2) + ...\n",
    "\n",
    "initial_params = # ?,?,?, ...\n",
    "my_bounds = # ([min1,...],[max1,...])\n",
    "\n",
    "popt, pcov = curve_fit(f=blackbody_and_lines_model, xdata=x, ydata=y, p0=initial_params, bounds=my_bounds)\n",
    "```"
   ]
  }
 ],
 "metadata": {
  "kernelspec": {
   "display_name": "Python 3 (ipykernel)",
   "language": "python",
   "name": "python3"
  },
  "language_info": {
   "codemirror_mode": {
    "name": "ipython",
    "version": 3
   },
   "file_extension": ".py",
   "mimetype": "text/x-python",
   "name": "python",
   "nbconvert_exporter": "python",
   "pygments_lexer": "ipython3",
   "version": "3.9.19"
  }
 },
 "nbformat": 4,
 "nbformat_minor": 5
}
